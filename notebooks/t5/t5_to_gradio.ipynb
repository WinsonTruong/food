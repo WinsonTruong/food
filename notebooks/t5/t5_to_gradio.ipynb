{
 "cells": [
  {
   "cell_type": "code",
   "execution_count": 30,
   "metadata": {},
   "outputs": [
    {
     "name": "stdout",
     "output_type": "stream",
     "text": [
      "Collecting gradio\n",
      "  Downloading gradio-3.7-py3-none-any.whl (11.6 MB)\n",
      "     --------------------------------------- 11.6/11.6 MB 92.9 MB/s eta 0:00:00\n",
      "Requirement already satisfied: pyyaml in c:\\users\\truon\\anaconda3\\envs\\learn\\lib\\site-packages (from gradio) (6.0)\n",
      "Collecting uvicorn\n",
      "  Downloading uvicorn-0.19.0-py3-none-any.whl (56 kB)\n",
      "     ---------------------------------------- 56.6/56.6 kB ? eta 0:00:00\n",
      "Collecting httpx\n",
      "  Using cached httpx-0.23.0-py3-none-any.whl (84 kB)\n",
      "Collecting pycryptodome\n",
      "  Using cached pycryptodome-3.15.0-cp35-abi3-win_amd64.whl (1.9 MB)\n",
      "Collecting pydub\n",
      "  Using cached pydub-0.25.1-py2.py3-none-any.whl (32 kB)\n",
      "Collecting jinja2\n",
      "  Using cached Jinja2-3.1.2-py3-none-any.whl (133 kB)\n",
      "Requirement already satisfied: pillow in c:\\users\\truon\\anaconda3\\envs\\learn\\lib\\site-packages (from gradio) (9.2.0)\n",
      "Requirement already satisfied: requests in c:\\users\\truon\\anaconda3\\envs\\learn\\lib\\site-packages (from gradio) (2.28.1)\n",
      "Collecting websockets\n",
      "  Downloading websockets-10.4-cp38-cp38-win_amd64.whl (101 kB)\n",
      "     ---------------------------------------- 101.4/101.4 kB ? eta 0:00:00\n",
      "Requirement already satisfied: aiohttp in c:\\users\\truon\\anaconda3\\envs\\learn\\lib\\site-packages (from gradio) (3.8.1)\n",
      "Collecting python-multipart\n",
      "  Using cached python_multipart-0.0.5-py3-none-any.whl\n",
      "Collecting pydantic\n",
      "  Using cached pydantic-1.10.2-cp38-cp38-win_amd64.whl (2.2 MB)\n",
      "Requirement already satisfied: matplotlib in c:\\users\\truon\\anaconda3\\envs\\learn\\lib\\site-packages (from gradio) (3.6.1)\n",
      "Requirement already satisfied: pandas in c:\\users\\truon\\anaconda3\\envs\\learn\\lib\\site-packages (from gradio) (1.4.4)\n",
      "Collecting markdown-it-py[linkify,plugins]\n",
      "  Using cached markdown_it_py-2.1.0-py3-none-any.whl (84 kB)\n",
      "Collecting ffmpy\n",
      "  Using cached ffmpy-0.3.0-py3-none-any.whl\n",
      "Requirement already satisfied: numpy in c:\\users\\truon\\anaconda3\\envs\\learn\\lib\\site-packages (from gradio) (1.23.1)\n",
      "Requirement already satisfied: fsspec in c:\\users\\truon\\anaconda3\\envs\\learn\\lib\\site-packages (from gradio) (2022.7.1)\n",
      "Collecting fastapi\n",
      "  Downloading fastapi-0.85.1-py3-none-any.whl (55 kB)\n",
      "     ---------------------------------------- 55.4/55.4 kB ? eta 0:00:00\n",
      "Collecting h11<0.13,>=0.11\n",
      "  Using cached h11-0.12.0-py3-none-any.whl (54 kB)\n",
      "Collecting paramiko\n",
      "  Using cached paramiko-2.11.0-py2.py3-none-any.whl (212 kB)\n",
      "Collecting orjson\n",
      "  Downloading orjson-3.8.1-cp38-none-win_amd64.whl (198 kB)\n",
      "     ---------------------------------------- 198.8/198.8 kB ? eta 0:00:00\n",
      "Requirement already satisfied: charset-normalizer<3.0,>=2.0 in c:\\users\\truon\\anaconda3\\envs\\learn\\lib\\site-packages (from aiohttp->gradio) (2.0.4)\n",
      "Requirement already satisfied: frozenlist>=1.1.1 in c:\\users\\truon\\anaconda3\\envs\\learn\\lib\\site-packages (from aiohttp->gradio) (1.3.1)\n",
      "Requirement already satisfied: yarl<2.0,>=1.0 in c:\\users\\truon\\anaconda3\\envs\\learn\\lib\\site-packages (from aiohttp->gradio) (1.8.1)\n",
      "Requirement already satisfied: multidict<7.0,>=4.5 in c:\\users\\truon\\anaconda3\\envs\\learn\\lib\\site-packages (from aiohttp->gradio) (6.0.2)\n",
      "Requirement already satisfied: aiosignal>=1.1.2 in c:\\users\\truon\\anaconda3\\envs\\learn\\lib\\site-packages (from aiohttp->gradio) (1.2.0)\n",
      "Requirement already satisfied: async-timeout<5.0,>=4.0.0a3 in c:\\users\\truon\\anaconda3\\envs\\learn\\lib\\site-packages (from aiohttp->gradio) (4.0.2)\n",
      "Requirement already satisfied: attrs>=17.3.0 in c:\\users\\truon\\anaconda3\\envs\\learn\\lib\\site-packages (from aiohttp->gradio) (22.1.0)\n",
      "Collecting starlette==0.20.4\n",
      "  Downloading starlette-0.20.4-py3-none-any.whl (63 kB)\n",
      "     ---------------------------------------- 63.6/63.6 kB ? eta 0:00:00\n",
      "Requirement already satisfied: typing-extensions>=3.10.0 in c:\\users\\truon\\anaconda3\\envs\\learn\\lib\\site-packages (from starlette==0.20.4->fastapi->gradio) (4.3.0)\n",
      "Collecting anyio<5,>=3.4.0\n",
      "  Downloading anyio-3.6.2-py3-none-any.whl (80 kB)\n",
      "     ---------------------------------------- 80.6/80.6 kB ? eta 0:00:00\n",
      "Collecting sniffio\n",
      "  Using cached sniffio-1.3.0-py3-none-any.whl (10 kB)\n",
      "Collecting httpcore<0.16.0,>=0.15.0\n",
      "  Using cached httpcore-0.15.0-py3-none-any.whl (68 kB)\n",
      "Requirement already satisfied: certifi in c:\\users\\truon\\anaconda3\\envs\\learn\\lib\\site-packages (from httpx->gradio) (2022.6.15)\n",
      "Collecting rfc3986[idna2008]<2,>=1.3\n",
      "  Using cached rfc3986-1.5.0-py2.py3-none-any.whl (31 kB)\n",
      "Requirement already satisfied: MarkupSafe>=2.0 in c:\\users\\truon\\anaconda3\\envs\\learn\\lib\\site-packages (from jinja2->gradio) (2.1.1)\n",
      "Collecting mdurl~=0.1\n",
      "  Using cached mdurl-0.1.2-py3-none-any.whl (10.0 kB)\n",
      "Collecting linkify-it-py~=1.0\n",
      "  Using cached linkify_it_py-1.0.3-py3-none-any.whl (19 kB)\n",
      "Collecting mdit-py-plugins\n",
      "  Downloading mdit_py_plugins-0.3.1-py3-none-any.whl (46 kB)\n",
      "     ---------------------------------------- 46.5/46.5 kB ? eta 0:00:00\n",
      "Requirement already satisfied: pyparsing>=2.2.1 in c:\\users\\truon\\anaconda3\\envs\\learn\\lib\\site-packages (from matplotlib->gradio) (3.0.9)\n",
      "Requirement already satisfied: packaging>=20.0 in c:\\users\\truon\\anaconda3\\envs\\learn\\lib\\site-packages (from matplotlib->gradio) (21.3)\n",
      "Requirement already satisfied: cycler>=0.10 in c:\\users\\truon\\anaconda3\\envs\\learn\\lib\\site-packages (from matplotlib->gradio) (0.11.0)\n",
      "Requirement already satisfied: fonttools>=4.22.0 in c:\\users\\truon\\anaconda3\\envs\\learn\\lib\\site-packages (from matplotlib->gradio) (4.38.0)\n",
      "Requirement already satisfied: kiwisolver>=1.0.1 in c:\\users\\truon\\anaconda3\\envs\\learn\\lib\\site-packages (from matplotlib->gradio) (1.4.4)\n",
      "Requirement already satisfied: python-dateutil>=2.7 in c:\\users\\truon\\anaconda3\\envs\\learn\\lib\\site-packages (from matplotlib->gradio) (2.8.2)\n",
      "Requirement already satisfied: contourpy>=1.0.1 in c:\\users\\truon\\anaconda3\\envs\\learn\\lib\\site-packages (from matplotlib->gradio) (1.0.5)\n",
      "Requirement already satisfied: pytz>=2020.1 in c:\\users\\truon\\anaconda3\\envs\\learn\\lib\\site-packages (from pandas->gradio) (2022.2.1)\n",
      "Requirement already satisfied: cryptography>=2.5 in c:\\users\\truon\\anaconda3\\envs\\learn\\lib\\site-packages (from paramiko->gradio) (37.0.1)\n",
      "Collecting pynacl>=1.0.1\n",
      "  Using cached PyNaCl-1.5.0-cp36-abi3-win_amd64.whl (212 kB)\n",
      "Collecting bcrypt>=3.1.3\n",
      "  Downloading bcrypt-4.0.1-cp36-abi3-win_amd64.whl (152 kB)\n",
      "     ---------------------------------------- 152.9/152.9 kB ? eta 0:00:00\n",
      "Requirement already satisfied: six in c:\\users\\truon\\anaconda3\\envs\\learn\\lib\\site-packages (from paramiko->gradio) (1.16.0)\n",
      "Requirement already satisfied: idna<4,>=2.5 in c:\\users\\truon\\anaconda3\\envs\\learn\\lib\\site-packages (from requests->gradio) (3.3)\n",
      "Requirement already satisfied: urllib3<1.27,>=1.21.1 in c:\\users\\truon\\anaconda3\\envs\\learn\\lib\\site-packages (from requests->gradio) (1.26.11)\n",
      "Requirement already satisfied: click>=7.0 in c:\\users\\truon\\anaconda3\\envs\\learn\\lib\\site-packages (from uvicorn->gradio) (8.1.3)\n",
      "Requirement already satisfied: colorama in c:\\users\\truon\\anaconda3\\envs\\learn\\lib\\site-packages (from click>=7.0->uvicorn->gradio) (0.4.5)\n",
      "Requirement already satisfied: cffi>=1.12 in c:\\users\\truon\\anaconda3\\envs\\learn\\lib\\site-packages (from cryptography>=2.5->paramiko->gradio) (1.15.1)\n",
      "Collecting uc-micro-py\n",
      "  Using cached uc_micro_py-1.0.1-py3-none-any.whl (6.2 kB)\n",
      "Requirement already satisfied: pycparser in c:\\users\\truon\\anaconda3\\envs\\learn\\lib\\site-packages (from cffi>=1.12->cryptography>=2.5->paramiko->gradio) (2.21)\n",
      "Installing collected packages: rfc3986, pydub, ffmpy, websockets, uc-micro-py, sniffio, python-multipart, pydantic, pycryptodome, orjson, mdurl, jinja2, h11, bcrypt, uvicorn, pynacl, markdown-it-py, linkify-it-py, anyio, starlette, paramiko, mdit-py-plugins, httpcore, httpx, fastapi, gradio\n",
      "Successfully installed anyio-3.6.2 bcrypt-4.0.1 fastapi-0.85.1 ffmpy-0.3.0 gradio-3.7 h11-0.12.0 httpcore-0.15.0 httpx-0.23.0 jinja2-3.1.2 linkify-it-py-1.0.3 markdown-it-py-2.1.0 mdit-py-plugins-0.3.1 mdurl-0.1.2 orjson-3.8.1 paramiko-2.11.0 pycryptodome-3.15.0 pydantic-1.10.2 pydub-0.25.1 pynacl-1.5.0 python-multipart-0.0.5 rfc3986-1.5.0 sniffio-1.3.0 starlette-0.20.4 uc-micro-py-1.0.1 uvicorn-0.19.0 websockets-10.4\n"
     ]
    }
   ],
   "source": [
    "from transformers import pipeline\n",
    "import gradio as gr"
   ]
  },
  {
   "cell_type": "code",
   "execution_count": 47,
   "metadata": {},
   "outputs": [],
   "source": [
    "flan_pipe = pipeline(\"text2text-generation\", model='google/flan-t5-large')"
   ]
  },
  {
   "cell_type": "code",
   "execution_count": 27,
   "metadata": {},
   "outputs": [
    {
     "data": {
      "text/plain": [
       "{'generated_text': 'Chaat is a food dish that is similar to a naan. Naan is a type of food dish that is similar to chaat. The final answer: naan.'}"
      ]
     },
     "execution_count": 27,
     "metadata": {},
     "output_type": "execute_result"
    }
   ],
   "source": [
    "answer =flan_pipe(\"Answer the following question by detailing your reasoning: What food dishes are similar to chaat?\",max_length=100)\n",
    "answer[0]"
   ]
  },
  {
   "cell_type": "code",
   "execution_count": 28,
   "metadata": {},
   "outputs": [
    {
     "data": {
      "text/plain": [
       "'Chaat is a food dish that is similar to a naan. Naan is a type of food dish that is similar to chaat. The final answer: naan.'"
      ]
     },
     "execution_count": 28,
     "metadata": {},
     "output_type": "execute_result"
    }
   ],
   "source": [
    "answer[0]['generated_text']"
   ]
  },
  {
   "cell_type": "code",
   "execution_count": 61,
   "metadata": {},
   "outputs": [
    {
     "name": "stdout",
     "output_type": "stream",
     "text": [
      "Running on local URL:  http://127.0.0.1:7866\n",
      "\n",
      "To create a public link, set `share=True` in `launch()`.\n"
     ]
    },
    {
     "data": {
      "text/html": [
       "<div><iframe src=\"http://127.0.0.1:7866/\" width=\"900\" height=\"500\" allow=\"autoplay; camera; microphone; clipboard-read; clipboard-write;\" frameborder=\"0\" allowfullscreen></iframe></div>"
      ],
      "text/plain": [
       "<IPython.core.display.HTML object>"
      ]
     },
     "metadata": {},
     "output_type": "display_data"
    },
    {
     "data": {
      "text/plain": [
       "(<gradio.routes.App at 0x255c1e7eb50>, 'http://127.0.0.1:7866/', None)"
      ]
     },
     "execution_count": 61,
     "metadata": {},
     "output_type": "execute_result"
    }
   ],
   "source": [
    "title = \"Explain what this food is to me\"\n",
    "\n",
    "def description_inference(predicted_food):\n",
    "\n",
    "    prompts = [\n",
    "        f\"Answer the following question: How do you enjoy {predicted_food}?\"                                   ,\n",
    "        f\"Answer the following question: What are the flavors of {predicted_food}\"                             ,\n",
    "        f\"Answer the following question: What are the textures of {predicted_food}?\"                           ,\n",
    "        f\"Answer the following question: What are the aromas of {predicted_food}?\"                             ,\n",
    "        f\"Answer the following question: How do you improve the flavor of {predicted_food}?\"                   ,\n",
    "    ]\n",
    "\n",
    "    for question in prompts:\n",
    "        answers = []\n",
    "        answers += [\n",
    "            flan_pipe(question, max_length = 100)[0][\"generated_text\"]\n",
    "        ]\n",
    "    return \" \".join(answers)\n",
    "\n",
    "\n",
    "io = gr.Interface(\n",
    "  description_inference,\n",
    "  gr.Textbox(lines=3),\n",
    "  outputs=[\n",
    "    gr.Textbox(lines=3, label=f\"Here are the ways you can enjoy this and improve it!\"),\n",
    "  ],\n",
    "  title=title,\n",
    "  description=None\n",
    ")\n",
    "io.launch()"
   ]
  },
  {
   "cell_type": "code",
   "execution_count": null,
   "metadata": {},
   "outputs": [],
   "source": []
  }
 ],
 "metadata": {
  "kernelspec": {
   "display_name": "Python 3.8.13 ('learn')",
   "language": "python",
   "name": "python3"
  },
  "language_info": {
   "codemirror_mode": {
    "name": "ipython",
    "version": 3
   },
   "file_extension": ".py",
   "mimetype": "text/x-python",
   "name": "python",
   "nbconvert_exporter": "python",
   "pygments_lexer": "ipython3",
   "version": "3.8.13"
  },
  "orig_nbformat": 4,
  "vscode": {
   "interpreter": {
    "hash": "6efa6cdb99600126c800a8c2796f4efb4f3deae8ebc43a754c2171b5bde04e09"
   }
  }
 },
 "nbformat": 4,
 "nbformat_minor": 2
}
