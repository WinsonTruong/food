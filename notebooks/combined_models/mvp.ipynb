{
 "cells": [
  {
   "cell_type": "markdown",
   "metadata": {},
   "source": [
    "# the bare minimum viable product"
   ]
  },
  {
   "cell_type": "code",
   "execution_count": null,
   "metadata": {},
   "outputs": [],
   "source": [
    "import torch\n",
    "import transformers\n",
    "import gradio as gr\n",
    "\n",
    "from onnxruntime import InferenceSession\n",
    "from PIL import Image\n",
    "\n",
    "from transformers import (\n",
    "    pipeline,\n",
    "    AutoFeatureExtractor, \n",
    "    DefaultDataCollator, \n",
    "    AutoModelForImageClassification,\n",
    "    TrainingArguments,\n",
    "    Trainer\n",
    ")"
   ]
  },
  {
   "cell_type": "code",
   "execution_count": 3,
   "metadata": {},
   "outputs": [],
   "source": [
    "# image classifier\n",
    "food_model_extractor = AutoFeatureExtractor.from_pretrained(pretrained_model_name_or_path = 'stochastic/102722run') #this can also be a tokenizer\n",
    "food_classification_model = AutoModelForImageClassification.from_pretrained(\"stochastic/102722run\")\n",
    "\n",
    "# image describer\n",
    "flan_pipe = pipeline(\"text2text-generation\", model='google/flan-t5-large',)"
   ]
  },
  {
   "cell_type": "code",
   "execution_count": 4,
   "metadata": {},
   "outputs": [],
   "source": [
    "# helper \n",
    "def clean_up_answer(flan_answer):\n",
    "    \n",
    "    # replace extra periods \n",
    "    if flan_answer[-1] == '.':\n",
    "        pass\n",
    "    else:\n",
    "        flan_answer = flan_answer + \".\"\n",
    "\n",
    "    # get rid of underscores from answers\n",
    "    clean_answer = flan_answer.replace(\"_\", \" \")\n",
    "\n",
    "    return clean_answer"
   ]
  },
  {
   "cell_type": "code",
   "execution_count": 6,
   "metadata": {},
   "outputs": [
    {
     "name": "stdout",
     "output_type": "stream",
     "text": [
      "Running on local URL:  http://127.0.0.1:7866\n",
      "\n",
      "To create a public link, set `share=True` in `launch()`.\n"
     ]
    },
    {
     "data": {
      "text/html": [
       "<div><iframe src=\"http://127.0.0.1:7866/\" width=\"900\" height=\"500\" allow=\"autoplay; camera; microphone; clipboard-read; clipboard-write;\" frameborder=\"0\" allowfullscreen></iframe></div>"
      ],
      "text/plain": [
       "<IPython.core.display.HTML object>"
      ]
     },
     "metadata": {},
     "output_type": "display_data"
    },
    {
     "data": {
      "text/plain": [
       "(<gradio.routes.App at 0x2b048cb29d0>, 'http://127.0.0.1:7866/', None)"
      ]
     },
     "execution_count": 6,
     "metadata": {},
     "output_type": "execute_result"
    }
   ],
   "source": [
    "model = AutoModelForImageClassification.from_pretrained('stochastic/102722run')\n",
    "extractor =  AutoFeatureExtractor.from_pretrained(pretrained_model_name_or_path = 'stochastic/102722run')\n",
    "\n",
    "def classify_and_describe_image(user_input):\n",
    "    \"\"\"\n",
    "    Take an image and describe how to eat it\n",
    "    \"\"\"\n",
    "\n",
    "    session = InferenceSession(\"../../onnx/vit-model.onnx\")\n",
    "    output_name = session.get_outputs()[0].name\n",
    "    input_name = session.get_inputs()[0].name\n",
    "\n",
    "\n",
    "    inputs = food_model_extractor(Image.open(user_input).convert(\"RGB\"), return_tensors=\"np\") #onnx expects numpy\n",
    "    outputs = session.run(output_names = [output_name], input_feed=dict(inputs))\n",
    "\n",
    "    predicted_class_idx = outputs[0].argmax(-1).item()\n",
    "    predicted_food = food_classification_model.config.id2label[predicted_class_idx]\n",
    "    first_sentence = f\"This looks like {predicted_food}! \"\n",
    "\n",
    "    prompts = {\n",
    "        f\"Answer the following question: How do you enjoy {predicted_food}?\"                       : f'I recommend to ',\n",
    "        f\"Answer the following question: What are the flavors of {predicted_food}\"                 : 'The flavors are similar to ',\n",
    "        f\"Answer the following question: What are the textures of {predicted_food}?\"               : 'The textures are ',\n",
    "        f\"Answer the following question: What are the aromas of {predicted_food}?\"                 : 'The armoas will be ',\n",
    "        f\"Answer the following question: How do you improve the flavor of {predicted_food}?\"       : 'To enjoy, you can '\n",
    "    }\n",
    "\n",
    "    answers = []\n",
    "    for question in prompts.keys():\n",
    "        answer = flan_pipe(question, max_length = 100)[0][\"generated_text\"].lower()\n",
    "        if answer[-1] == '.':\n",
    "          pass\n",
    "        else:\n",
    "          answer = answer + \".\"\n",
    "        rec = prompts[question] + answer\n",
    "        answers.append(rec)\n",
    "    return clean_up_answer(first_sentence + \" \".join(answers))\n",
    "    \n",
    "\n",
    "gr.Interface(fn=classify_and_describe_image, \n",
    "             inputs=gr.Image(type = 'filepath', label = \"Image\"),\n",
    "             outputs=[gr.Textbox(lines=3, label=f\"Here are the ways you can enjoy this and improve it!\")],\n",
    "             title = \"Upload food you haven't tried before\",\n",
    ").launch()"
   ]
  },
  {
   "cell_type": "code",
   "execution_count": null,
   "metadata": {},
   "outputs": [],
   "source": []
  }
 ],
 "metadata": {
  "kernelspec": {
   "display_name": "Python 3.8.13 ('learn')",
   "language": "python",
   "name": "python3"
  },
  "language_info": {
   "codemirror_mode": {
    "name": "ipython",
    "version": 3
   },
   "file_extension": ".py",
   "mimetype": "text/x-python",
   "name": "python",
   "nbconvert_exporter": "python",
   "pygments_lexer": "ipython3",
   "version": "3.8.13"
  },
  "orig_nbformat": 4,
  "vscode": {
   "interpreter": {
    "hash": "6efa6cdb99600126c800a8c2796f4efb4f3deae8ebc43a754c2171b5bde04e09"
   }
  }
 },
 "nbformat": 4,
 "nbformat_minor": 2
}
